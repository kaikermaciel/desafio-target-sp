{
  "nbformat": 4,
  "nbformat_minor": 0,
  "metadata": {
    "colab": {
      "provenance": [],
      "authorship_tag": "ABX9TyPPEmC6vx94vlU2/rWJlfKS",
      "include_colab_link": true
    },
    "kernelspec": {
      "name": "python3",
      "display_name": "Python 3"
    },
    "language_info": {
      "name": "python"
    }
  },
  "cells": [
    {
      "cell_type": "markdown",
      "metadata": {
        "id": "view-in-github",
        "colab_type": "text"
      },
      "source": [
        "<a href=\"https://colab.research.google.com/github/kaikermaciel/desafio-target-sp/blob/main/desafio_targetSP.ipynb\" target=\"_parent\"><img src=\"https://colab.research.google.com/assets/colab-badge.svg\" alt=\"Open In Colab\"/></a>"
      ]
    },
    {
      "cell_type": "markdown",
      "source": [
        "1) Observe o trecho de código abaixo: int INDICE = 13, SOMA = 0, K = 0;\n",
        "Enquanto K < INDICE faça { K = K + 1; SOMA = SOMA + K; }\n",
        "Imprimir(SOMA);\n",
        "Ao final do processamento, qual será o valor da variável SOMA?\n",
        "\n"
      ],
      "metadata": {
        "id": "Sns-9-W11pux"
      }
    },
    {
      "cell_type": "code",
      "execution_count": 1,
      "metadata": {
        "colab": {
          "base_uri": "https://localhost:8080/"
        },
        "id": "Sa1ThzX61gp4",
        "outputId": "8b4b58cc-f31f-4a08-c4e3-ab2a4f60d92b"
      },
      "outputs": [
        {
          "output_type": "stream",
          "name": "stdout",
          "text": [
            "91\n"
          ]
        }
      ],
      "source": [
        "indice = 13\n",
        "soma = 0\n",
        "k = 0\n",
        "\n",
        "while k < indice:\n",
        "  k = k+1\n",
        "  soma = soma + k\n",
        "\n",
        "print(soma)"
      ]
    },
    {
      "cell_type": "markdown",
      "source": [
        "2) Dado a sequência de Fibonacci, onde se inicia por 0 e 1 e o próximo valor sempre será a soma dos 2 valores anteriores (exemplo: 0, 1, 1, 2, 3, 5, 8, 13, 21, 34...), escreva um programa na linguagem que desejar onde, informado um número, ele calcule a sequência de Fibonacci e retorne uma mensagem avisando se o número informado pertence ou não a sequência.\n",
        "\n",
        "IMPORTANTE: Esse número pode ser informado através de qualquer entrada de sua preferência ou pode ser previamente definido no código;\n",
        "\n"
      ],
      "metadata": {
        "id": "7VDKpFTF1u21"
      }
    },
    {
      "cell_type": "code",
      "source": [
        "def is_fibonacci(num):\n",
        "    def fibonacci_sequence_up_to(n):\n",
        "        fib_seq = [0, 1]\n",
        "        while fib_seq[-1] < n:\n",
        "            fib_seq.append(fib_seq[-1] + fib_seq[-2])\n",
        "        return fib_seq\n",
        "\n",
        "    fib_seq = fibonacci_sequence_up_to(num)\n",
        "\n",
        "    if num in fib_seq:\n",
        "        return f\"O número {num} pertence à sequência de Fibonacci.\"\n",
        "    else:\n",
        "        return f\"O número {num} NÃO pertence à sequência de Fibonacci.\"\n",
        "\n",
        "num = int(input())\n",
        "print(is_fibonacci(num))"
      ],
      "metadata": {
        "id": "OV_heLoj1yDq"
      },
      "execution_count": null,
      "outputs": []
    },
    {
      "cell_type": "markdown",
      "source": [
        "3) Dado um vetor que guarda o valor de faturamento diário de uma distribuidora, faça um programa, na linguagem que desejar, que calcule e retorne:\n",
        "\n",
        "* O menor valor de faturamento ocorrido em um dia do mês;\n",
        "* O maior valor de faturamento ocorrido em um dia do mês;\n",
        "* Número de dias no mês em que o valor de faturamento diário foi superior à média mensal.\n",
        "\n",
        "\n",
        "\n",
        "IMPORTANTE:\n",
        "1. Usar o json ou xml disponível como fonte dos dados do faturamento mensal;\n",
        "2. Podem existir dias sem faturamento, como nos finais de semana e feriados. Estes dias devem ser ignorados no cálculo da média;\n",
        "\n"
      ],
      "metadata": {
        "id": "HSMFYwkB1ydj"
      }
    },
    {
      "cell_type": "code",
      "source": [
        "import json\n",
        "\n",
        "def load_data():\n",
        "    with open('faturamento.json') as input_file:\n",
        "        data = json.load(input_file)\n",
        "    return data['faturamento']\n",
        "\n",
        "def calculate_billing(billing):\n",
        "  billing_days = [dia['valor'] for dia in billing if dia['valor'] > 0]\n",
        "\n",
        "  min_billing = min(billing_days)\n",
        "  max_billing = max(billing_days)\n",
        "\n",
        "  monthly_average = sum(billing_days) / len(billing_days)\n",
        "\n",
        "  days_above_avg = sum(1 for dia in billing_days if dia > monthly_average)\n",
        "\n",
        "  return min_billing, max_billing, days_above_avg\n",
        "\n",
        "def main():\n",
        "    # Carregar os dados do JSON\n",
        "  billing = load_data()\n",
        "\n",
        "  min_billing, max_billing, days_above_avg = calculate_billing(billing)\n",
        "\n",
        "    # Exibir os resultados\n",
        "  print(f\"Min billing value: {min_billing}\")\n",
        "  print(f\"Max billing value: {max_billing}\")\n",
        "  print(f\"Days with billing above average: {days_above_avg}\")\n",
        "\n",
        "\n",
        "main()"
      ],
      "metadata": {
        "id": "I5CVDN6w11Al"
      },
      "execution_count": null,
      "outputs": []
    },
    {
      "cell_type": "markdown",
      "source": [
        "4) Dado o valor de faturamento mensal de uma distribuidora, detalhado por estado:\n",
        "* SP - R$67.836,43;\n",
        "\n",
        "* RJ - R$36.678,66;\n",
        "\n",
        "* MG - R$29.229,88;\n",
        "\n",
        "* ES - R$27.165,48;\n",
        "\n",
        "* Outros - R$19.849,53\n",
        "\n",
        "Escreva um programa na linguagem que desejar onde calcule o percentual de representação que cada estado teve dentro do valor total mensal da distribuidora.\n",
        "\n"
      ],
      "metadata": {
        "id": "1Efxidn511ZF"
      }
    },
    {
      "cell_type": "code",
      "source": [
        "billing = {\n",
        "    'SP' : 67836.43,\n",
        "    'RJ' : 36678.66,\n",
        "    'MG' : 29229.88,\n",
        "    'ES' : 27165.48,\n",
        "    'OUTROS' : 19849.53\n",
        "}\n",
        "\n",
        "def calculate_percentage_of_representation():\n",
        "  total = sum([billing[x] for x in billing])\n",
        "  percentage_of_representation = {}\n",
        "\n",
        "  for state in billing:\n",
        "      percentage = billing[state] / total\n",
        "      percentage_of_representation[state] = percentage\n",
        "\n",
        "  for state, percentage in percentage_of_representation.items():\n",
        "      print(f'{state} - {percentage:.3f}')\n",
        "\n",
        "calculate_percentage_of_representation()\n"
      ],
      "metadata": {
        "colab": {
          "base_uri": "https://localhost:8080/"
        },
        "id": "9b7XQR3J1570",
        "outputId": "e22e99a0-d73c-496c-f37f-83e7b5795466"
      },
      "execution_count": 9,
      "outputs": [
        {
          "output_type": "stream",
          "name": "stdout",
          "text": [
            "SP - 0.375\n",
            "RJ - 0.203\n",
            "MG - 0.162\n",
            "ES - 0.150\n",
            "OUTROS - 0.110\n"
          ]
        }
      ]
    },
    {
      "cell_type": "markdown",
      "source": [
        "5) Escreva um programa que inverta os caracteres de um string.\n",
        "\n",
        "IMPORTANTE:\n",
        "a) Essa string pode ser informada através de qualquer entrada de sua preferência ou pode ser previamente definida no código;\n",
        "b) Evite usar funções prontas, como, por exemplo, reverse;"
      ],
      "metadata": {
        "id": "ZJh2EHAb16Y4"
      }
    },
    {
      "cell_type": "code",
      "source": [
        "def string_inverter(string):\n",
        "  return string[::-1]\n",
        "\n",
        "string = input()\n",
        "print(string_inverter(string))"
      ],
      "metadata": {
        "colab": {
          "base_uri": "https://localhost:8080/"
        },
        "id": "_qaz7EC217gx",
        "outputId": "c3df5f13-ca8d-431c-9db3-3d16f10b0435"
      },
      "execution_count": 10,
      "outputs": [
        {
          "output_type": "stream",
          "name": "stdout",
          "text": [
            "fluminense\n",
            "esnenimulf\n"
          ]
        }
      ]
    },
    {
      "cell_type": "code",
      "source": [],
      "metadata": {
        "id": "C34xi2RoCUfV"
      },
      "execution_count": null,
      "outputs": []
    }
  ]
}